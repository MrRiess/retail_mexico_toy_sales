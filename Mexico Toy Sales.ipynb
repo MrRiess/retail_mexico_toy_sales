{
 "cells": [
  {
   "cell_type": "markdown",
   "id": "3d8f3d5c",
   "metadata": {},
   "source": [
    "# Retail"
   ]
  },
  {
   "cell_type": "markdown",
   "id": "f8da5bde",
   "metadata": {},
   "source": [
    "## Assigned Task"
   ]
  },
  {
   "cell_type": "markdown",
   "id": "5573c3dd",
   "metadata": {},
   "source": [
    "## Objectives"
   ]
  },
  {
   "cell_type": "markdown",
   "id": "52902d44",
   "metadata": {},
   "source": [
    "### **A. Data Preparation**"
   ]
  },
  {
   "cell_type": "markdown",
   "id": "22c9137b",
   "metadata": {},
   "source": [
    "#### Import Library"
   ]
  },
  {
   "cell_type": "markdown",
   "id": "77a5a1d4",
   "metadata": {},
   "source": [
    "#### Import Dataset"
   ]
  },
  {
   "cell_type": "markdown",
   "id": "6cd042e9",
   "metadata": {},
   "source": [
    "### **B. Data Cleaning**"
   ]
  },
  {
   "cell_type": "markdown",
   "id": "e2d56fc9",
   "metadata": {},
   "source": [
    "#### Transaction Behavior"
   ]
  },
  {
   "cell_type": "markdown",
   "id": "067453e2",
   "metadata": {},
   "source": [
    "##### Detecting Null Data"
   ]
  },
  {
   "cell_type": "markdown",
   "id": "9c01c0b5",
   "metadata": {},
   "source": [
    "##### Converting Data Types"
   ]
  },
  {
   "cell_type": "markdown",
   "id": "02a6c897",
   "metadata": {},
   "source": [
    "##### Checking Values & Types"
   ]
  },
  {
   "cell_type": "markdown",
   "id": "ab37c990",
   "metadata": {},
   "source": [
    "##### Excluding Values"
   ]
  },
  {
   "cell_type": "markdown",
   "id": "6d5b6b06",
   "metadata": {},
   "source": [
    "##### Replacing Value"
   ]
  },
  {
   "cell_type": "markdown",
   "id": "82a81fa5",
   "metadata": {},
   "source": [
    "##### Manipulating Dataset"
   ]
  },
  {
   "cell_type": "markdown",
   "id": "0fbd2c6e",
   "metadata": {},
   "source": [
    "### **C. Exploratory Data Analysis**"
   ]
  }
 ],
 "metadata": {
  "kernelspec": {
   "display_name": "Python 3",
   "language": "python",
   "name": "python3"
  },
  "language_info": {
   "codemirror_mode": {
    "name": "ipython",
    "version": 3
   },
   "file_extension": ".py",
   "mimetype": "text/x-python",
   "name": "python",
   "nbconvert_exporter": "python",
   "pygments_lexer": "ipython3",
   "version": "3.13.1"
  }
 },
 "nbformat": 4,
 "nbformat_minor": 5
}
